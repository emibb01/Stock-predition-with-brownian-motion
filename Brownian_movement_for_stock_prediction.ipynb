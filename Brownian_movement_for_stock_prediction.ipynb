{
 "cells": [
  {
   "cell_type": "code",
   "execution_count": 2,
   "id": "7b0e768e-86da-406d-a313-e6e729887fa2",
   "metadata": {},
   "outputs": [
    {
     "name": "stdout",
     "output_type": "stream",
     "text": [
      "Collecting yfinance\n",
      "  Downloading yfinance-0.2.56-py2.py3-none-any.whl.metadata (5.8 kB)\n",
      "Requirement already satisfied: pandas>=1.3.0 in d:\\anaconda\\lib\\site-packages (from yfinance) (2.2.2)\n",
      "Requirement already satisfied: numpy>=1.16.5 in d:\\anaconda\\lib\\site-packages (from yfinance) (1.26.4)\n",
      "Requirement already satisfied: requests>=2.31 in d:\\anaconda\\lib\\site-packages (from yfinance) (2.32.3)\n",
      "Collecting multitasking>=0.0.7 (from yfinance)\n",
      "  Downloading multitasking-0.0.11-py3-none-any.whl.metadata (5.5 kB)\n",
      "Requirement already satisfied: platformdirs>=2.0.0 in d:\\anaconda\\lib\\site-packages (from yfinance) (3.10.0)\n",
      "Requirement already satisfied: pytz>=2022.5 in d:\\anaconda\\lib\\site-packages (from yfinance) (2024.1)\n",
      "Requirement already satisfied: frozendict>=2.3.4 in d:\\anaconda\\lib\\site-packages (from yfinance) (2.4.2)\n",
      "Collecting peewee>=3.16.2 (from yfinance)\n",
      "  Downloading peewee-3.17.9.tar.gz (3.0 MB)\n",
      "     ---------------------------------------- 0.0/3.0 MB ? eta -:--:--\n",
      "     --- ------------------------------------ 0.3/3.0 MB ? eta -:--:--\n",
      "     ------ --------------------------------- 0.5/3.0 MB 1.3 MB/s eta 0:00:02\n",
      "     ------ --------------------------------- 0.5/3.0 MB 1.3 MB/s eta 0:00:02\n",
      "     ---------- ----------------------------- 0.8/3.0 MB 987.4 kB/s eta 0:00:03\n",
      "     ---------- ----------------------------- 0.8/3.0 MB 987.4 kB/s eta 0:00:03\n",
      "     ------------- -------------------------- 1.0/3.0 MB 740.5 kB/s eta 0:00:03\n",
      "     ------------- -------------------------- 1.0/3.0 MB 740.5 kB/s eta 0:00:03\n",
      "     ------------- -------------------------- 1.0/3.0 MB 740.5 kB/s eta 0:00:03\n",
      "     ----------------- ---------------------- 1.3/3.0 MB 678.2 kB/s eta 0:00:03\n",
      "     ----------------- ---------------------- 1.3/3.0 MB 678.2 kB/s eta 0:00:03\n",
      "     -------------------- ------------------- 1.6/3.0 MB 676.7 kB/s eta 0:00:03\n",
      "     ------------------------ --------------- 1.8/3.0 MB 694.4 kB/s eta 0:00:02\n",
      "     --------------------------- ------------ 2.1/3.0 MB 720.7 kB/s eta 0:00:02\n",
      "     --------------------------- ------------ 2.1/3.0 MB 720.7 kB/s eta 0:00:02\n",
      "     ------------------------------- -------- 2.4/3.0 MB 741.6 kB/s eta 0:00:01\n",
      "     ---------------------------------- ----- 2.6/3.0 MB 770.5 kB/s eta 0:00:01\n",
      "     -------------------------------------- - 2.9/3.0 MB 791.5 kB/s eta 0:00:01\n",
      "     ---------------------------------------- 3.0/3.0 MB 797.0 kB/s eta 0:00:00\n",
      "  Installing build dependencies: started\n",
      "  Installing build dependencies: finished with status 'done'\n",
      "  Getting requirements to build wheel: started\n",
      "  Getting requirements to build wheel: finished with status 'done'\n",
      "  Preparing metadata (pyproject.toml): started\n",
      "  Preparing metadata (pyproject.toml): finished with status 'done'\n",
      "Requirement already satisfied: beautifulsoup4>=4.11.1 in d:\\anaconda\\lib\\site-packages (from yfinance) (4.12.3)\n",
      "Requirement already satisfied: soupsieve>1.2 in d:\\anaconda\\lib\\site-packages (from beautifulsoup4>=4.11.1->yfinance) (2.5)\n",
      "Requirement already satisfied: python-dateutil>=2.8.2 in d:\\anaconda\\lib\\site-packages (from pandas>=1.3.0->yfinance) (2.9.0.post0)\n",
      "Requirement already satisfied: tzdata>=2022.7 in d:\\anaconda\\lib\\site-packages (from pandas>=1.3.0->yfinance) (2023.3)\n",
      "Requirement already satisfied: charset-normalizer<4,>=2 in d:\\anaconda\\lib\\site-packages (from requests>=2.31->yfinance) (3.3.2)\n",
      "Requirement already satisfied: idna<4,>=2.5 in d:\\anaconda\\lib\\site-packages (from requests>=2.31->yfinance) (3.7)\n",
      "Requirement already satisfied: urllib3<3,>=1.21.1 in d:\\anaconda\\lib\\site-packages (from requests>=2.31->yfinance) (2.2.3)\n",
      "Requirement already satisfied: certifi>=2017.4.17 in d:\\anaconda\\lib\\site-packages (from requests>=2.31->yfinance) (2025.1.31)\n",
      "Requirement already satisfied: six>=1.5 in d:\\anaconda\\lib\\site-packages (from python-dateutil>=2.8.2->pandas>=1.3.0->yfinance) (1.16.0)\n",
      "Downloading yfinance-0.2.56-py2.py3-none-any.whl (113 kB)\n",
      "Downloading multitasking-0.0.11-py3-none-any.whl (8.5 kB)\n",
      "Building wheels for collected packages: peewee\n",
      "  Building wheel for peewee (pyproject.toml): started\n",
      "  Building wheel for peewee (pyproject.toml): finished with status 'done'\n",
      "  Created wheel for peewee: filename=peewee-3.17.9-py3-none-any.whl size=139127 sha256=634acfefe6c65361f50bbaaa39d18000291db2cbf6f4cd9129215ca280d3f19d\n",
      "  Stored in directory: c:\\users\\emi_b\\appdata\\local\\pip\\cache\\wheels\\43\\ef\\2d\\2c51d496bf084945ffdf838b4cc8767b8ba1cc20eb41588831\n",
      "Successfully built peewee\n",
      "Installing collected packages: peewee, multitasking, yfinance\n",
      "Successfully installed multitasking-0.0.11 peewee-3.17.9 yfinance-0.2.56\n"
     ]
    }
   ],
   "source": [
    "!pip install yfinance# Fetch data\n",
    "data = yf.download(\"AAPL\", period=\"5y\")\n"
   ]
  },
  {
   "cell_type": "code",
   "execution_count": 3,
   "id": "1b801b65-73da-478b-aab2-236c0aae694d",
   "metadata": {
    "scrolled": true
   },
   "outputs": [],
   "source": [
    "import yfinance as yf\n",
    "import numpy as np\n",
    "import pandas as pd"
   ]
  },
  {
   "cell_type": "code",
   "execution_count": 4,
   "id": "fc4a9ca6-adf8-4917-a872-cdc3e60a10a4",
   "metadata": {},
   "outputs": [
    {
     "name": "stdout",
     "output_type": "stream",
     "text": [
      "YF.download() has changed argument auto_adjust default to True\n"
     ]
    },
    {
     "name": "stderr",
     "output_type": "stream",
     "text": [
      "[*********************100%***********************]  1 of 1 completed\n"
     ]
    }
   ],
   "source": [
    "# Fetch data\n",
    "data = yf.download(\"AAPL\", period=\"10y\")\n"
   ]
  },
  {
   "cell_type": "code",
   "execution_count": null,
   "id": "9fc6ae61-fc4f-4e24-a28c-625831472111",
   "metadata": {},
   "outputs": [],
   "source": [
    "class Company:\n",
    "    def __init__ (\n",
    "        self,\n",
    "        ticker: str,\n",
    "        sector: str = None,\n",
    "        current_price: float=None,\n",
    "        history_price: float=None\n",
    "        \n",
    "    ):\n",
    "        self.ticker=ticker\n",
    "\n",
    "    if any(v is None for v in [sector, current_price, history_price]):\n",
    "            self._fetch_data()\n",
    "        \n",
    "    def __fetch__data(self):\n",
    "        \"\"\"Fetch live data from Yahoo Finance.\"\"\"\n",
    "        stock = yf.Ticker(self.ticker)\n",
    "\n",
    "        sector=stock.info.get(\"industry\")\n",
    "        self.current_price = stock.history(period=\"1d\")['Close'].iloc[-1]\n",
    "        self.history_price = stock.history(period='max')\n",
    "        \n",
    "        "
   ]
  },
  {
   "cell_type": "code",
   "execution_count": null,
   "id": "e28dc125-f9c0-4257-a0b4-ada810bceaeb",
   "metadata": {},
   "outputs": [],
   "source": [
    "def __take__variables(self):\n",
    "    closes=self.history_price[\"Close\"]\n",
    "    log_returns=np.log(prices / prices.shift(1)).dropna()\n",
    "\n",
    "    self.mu=log_returns.mean() * 252\n",
    "    self.sigma = log_returns.std() * np.sqrt(252)\n",
    "\n",
    "    return(self.mu, self.sigma)"
   ]
  },
  {
   "cell_type": "code",
   "execution_count": null,
   "id": "b4736499-eb30-4978-bb86-da8ed6806452",
   "metadata": {},
   "outputs": [],
   "source": [
    "def __geometric__brownian__motion(self):\n",
    "    \n",
    "    "
   ]
  }
 ],
 "metadata": {
  "kernelspec": {
   "display_name": "Python [conda env:base] *",
   "language": "python",
   "name": "conda-base-py"
  },
  "language_info": {
   "codemirror_mode": {
    "name": "ipython",
    "version": 3
   },
   "file_extension": ".py",
   "mimetype": "text/x-python",
   "name": "python",
   "nbconvert_exporter": "python",
   "pygments_lexer": "ipython3",
   "version": "3.12.7"
  }
 },
 "nbformat": 4,
 "nbformat_minor": 5
}
